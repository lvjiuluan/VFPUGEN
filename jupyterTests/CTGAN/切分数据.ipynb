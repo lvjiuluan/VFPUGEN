{
 "cells": [
  {
   "cell_type": "code",
   "execution_count": 1,
   "id": "168005ed-bc52-4098-a95e-02283630b2a1",
   "metadata": {
    "tags": []
   },
   "outputs": [],
   "source": [
    "import sys\n",
    "sys.path.append(r'D:\\PyCharmProjects\\VFPUGEN')\n",
    "sys.path.append(r'/root/VFPUGEN')\n",
    "sys.path.append(r'D:\\PycharmProjects\\VFPUGEN')\n",
    "%load_ext autoreload\n",
    "%autoreload 2\n",
    "\n",
    "%matplotlib inline"
   ]
  },
  {
   "cell_type": "code",
   "execution_count": 10,
   "id": "8f2fd835-092d-498b-b85f-81632980b6d2",
   "metadata": {
    "tags": []
   },
   "outputs": [],
   "source": [
    "from datasets.DataSet import BankDataset, CensusDataset, CreditDataset\n",
    "from utils.DataProcessUtils import *\n",
    "from consts.Constants import DATASETS_PATH\n",
    "import os\n",
    "from utils.FateUtils import convert_ipynb_to_py"
   ]
  },
  {
   "cell_type": "code",
   "execution_count": 6,
   "id": "f3140b24-df05-42af-a3de-f7aadc29ec06",
   "metadata": {
    "tags": []
   },
   "outputs": [
    {
     "name": "stderr",
     "output_type": "stream",
     "text": [
      "2025-02-10 17:18:00,032 - INFO - 加载文件: /root/VFPUGEN/datasets/bank_orig.csv\n",
      "2025-02-10 17:18:00,259 - INFO - 成功加载 orig 数据。\n",
      "2025-02-10 17:18:00,261 - INFO - 加载文件: /root/VFPUGEN/datasets/bank_clean.csv\n",
      "2025-02-10 17:18:00,480 - INFO - 成功加载 clean 数据。\n",
      "2025-02-10 17:18:00,481 - INFO - 加载文件: /root/VFPUGEN/datasets/bank_coded_label.csv\n",
      "2025-02-10 17:18:00,639 - INFO - 成功加载 coded_label 数据。\n",
      "2025-02-10 17:18:00,641 - INFO - 加载文件: /root/VFPUGEN/datasets/bank_coded_onehot.csv\n",
      "2025-02-10 17:18:01,246 - INFO - 成功加载 coded_onehot 数据。\n",
      "2025-02-10 17:18:01,248 - INFO - 加载文件: /root/VFPUGEN/datasets/census_orig.csv\n",
      "2025-02-10 17:18:01,352 - INFO - 成功加载 orig 数据。\n",
      "2025-02-10 17:18:01,353 - INFO - 加载文件: /root/VFPUGEN/datasets/census_clean.csv\n",
      "2025-02-10 17:18:01,455 - INFO - 成功加载 clean 数据。\n",
      "2025-02-10 17:18:01,457 - INFO - 加载文件: /root/VFPUGEN/datasets/census_coded_label.csv\n",
      "2025-02-10 17:18:01,514 - INFO - 成功加载 coded_label 数据。\n",
      "2025-02-10 17:18:01,516 - INFO - 加载文件: /root/VFPUGEN/datasets/census_coded_onehot.csv\n",
      "2025-02-10 17:18:02,250 - INFO - 成功加载 coded_onehot 数据。\n",
      "2025-02-10 17:18:02,252 - INFO - 加载文件: /root/VFPUGEN/datasets/credit_orig.csv\n",
      "2025-02-10 17:18:02,626 - INFO - 成功加载 orig 数据。\n",
      "2025-02-10 17:18:02,628 - INFO - 加载文件: /root/VFPUGEN/datasets/credit_clean.csv\n",
      "2025-02-10 17:18:02,753 - INFO - 成功加载 clean 数据。\n",
      "2025-02-10 17:18:02,755 - INFO - 加载文件: /root/VFPUGEN/datasets/credit_coded_label.csv\n",
      "2025-02-10 17:18:02,881 - INFO - 成功加载 coded_label 数据。\n",
      "2025-02-10 17:18:02,883 - INFO - 加载文件: /root/VFPUGEN/datasets/credit_coded_onehot.csv\n",
      "2025-02-10 17:18:03,560 - INFO - 成功加载 coded_onehot 数据。\n"
     ]
    }
   ],
   "source": [
    "bank_dataset, census_dataset, credit_dataset = BankDataset(), CensusDataset(), CreditDataset()"
   ]
  },
  {
   "cell_type": "code",
   "execution_count": 7,
   "id": "9615116e-53ca-498a-9e03-d270fe192f70",
   "metadata": {
    "tags": []
   },
   "outputs": [
    {
     "name": "stdout",
     "output_type": "stream",
     "text": [
      "df1 的形状为: (41188, 31)\n",
      "df2 的形状为: (41188, 32)\n"
     ]
    }
   ],
   "source": [
    "df_A, df_B, y = transform_and_save_df(\n",
    "    bank_dataset.coded_onehot_data,\n",
    "    split_cols=32,\n",
    "    file_path=DATASETS_PATH,\n",
    "    name_prefix='VFPU_GEN_BANK_',\n",
    "    name_suffix='.csv'\n",
    ")"
   ]
  },
  {
   "cell_type": "code",
   "execution_count": 8,
   "id": "163a5d46-c401-4c10-84c1-bb8c96600887",
   "metadata": {
    "tags": []
   },
   "outputs": [
    {
     "name": "stdout",
     "output_type": "stream",
     "text": [
      "df1 的形状为: (32561, 76)\n",
      "df2 的形状为: (32561, 32)\n"
     ]
    }
   ],
   "source": [
    "df_A, df_B, y = transform_and_save_df(\n",
    "    census_dataset.coded_onehot_data,\n",
    "    split_cols=32,\n",
    "    file_path=DATASETS_PATH,\n",
    "    name_prefix='VFPU_GEN_CENSUS_',\n",
    "    name_suffix='.csv'\n",
    ")"
   ]
  },
  {
   "cell_type": "code",
   "execution_count": 9,
   "id": "4c2b412d-1603-492a-97f8-20548a1eebec",
   "metadata": {
    "tags": []
   },
   "outputs": [
    {
     "name": "stdout",
     "output_type": "stream",
     "text": [
      "df1 的形状为: (30000, 59)\n",
      "df2 的形状为: (30000, 32)\n"
     ]
    }
   ],
   "source": [
    "df_A, df_B, y = transform_and_save_df(\n",
    "    credit_dataset.coded_onehot_data,\n",
    "    split_cols=32,\n",
    "    file_path=DATASETS_PATH,\n",
    "    name_prefix='VFPU_GEN_CREDIT_',\n",
    "    name_suffix='.csv'\n",
    ")"
   ]
  },
  {
   "cell_type": "code",
   "execution_count": null,
   "id": "c025b0de-01fd-4ac1-b31d-4497fc282a85",
   "metadata": {},
   "outputs": [],
   "source": [
    "convert_ipynb_to_py('切分数据.ipynb','split_data')"
   ]
  }
 ],
 "metadata": {
  "kernelspec": {
   "display_name": "fate_env",
   "language": "python",
   "name": "fate_env"
  },
  "language_info": {
   "codemirror_mode": {
    "name": "ipython",
    "version": 3
   },
   "file_extension": ".py",
   "mimetype": "text/x-python",
   "name": "python",
   "nbconvert_exporter": "python",
   "pygments_lexer": "ipython3",
   "version": "3.10.16"
  }
 },
 "nbformat": 4,
 "nbformat_minor": 5
}
