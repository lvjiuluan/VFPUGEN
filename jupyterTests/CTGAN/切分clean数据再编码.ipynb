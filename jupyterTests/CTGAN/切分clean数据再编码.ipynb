{
 "cells": [
  {
   "cell_type": "code",
   "execution_count": 1,
   "id": "7ed83cdb-3cf9-4feb-a2af-9cd5ca371248",
   "metadata": {
    "tags": []
   },
   "outputs": [],
   "source": [
    "import sys\n",
    "sys.path.append(r'D:\\PyCharmProjects\\VFPUGEN')\n",
    "sys.path.append(r'/root/VFPUGEN')\n",
    "sys.path.append(r'D:\\PycharmProjects\\VFPUGEN')\n",
    "%load_ext autoreload\n",
    "%autoreload 2\n",
    "\n",
    "%matplotlib inline"
   ]
  },
  {
   "cell_type": "code",
   "execution_count": 28,
   "id": "95b17bcb-c74d-4629-ab50-237ab12ef657",
   "metadata": {
    "tags": []
   },
   "outputs": [],
   "source": [
    "from consts.Constants import DATASETS_PATH\n",
    "import pandas as pd\n",
    "from utils.DatasetsPrepareUtils import split_list_by_rate\n",
    "import os\n",
    "from utils.FateUtils import convert_ipynb_to_py"
   ]
  },
  {
   "cell_type": "code",
   "execution_count": 14,
   "id": "b2af8a94-968d-4038-baf1-b275569e8a63",
   "metadata": {
    "tags": []
   },
   "outputs": [],
   "source": [
    "rate_A = 0.5\n",
    "rate_B = 0.5"
   ]
  },
  {
   "cell_type": "code",
   "execution_count": 23,
   "id": "fc31a16f-39b8-4c06-8830-6f8d30c17fac",
   "metadata": {
    "tags": []
   },
   "outputs": [],
   "source": [
    "# bank\n",
    "category_columns = ['job', 'marital', 'education', 'default', 'housing', 'loan', 'contact', 'month', 'day_of_week',\n",
    "                    'poutcome']\n",
    "numerical_columns = ['age', 'duration', 'campaign', 'pdays', 'previous', 'emp.var.rate', 'cons.price.idx',\n",
    "                     'cons.conf.idx', 'euribor3m', 'nr.employed']\n",
    "target_variable = 'y'\n",
    "df = pd.read_csv(os.path.join(DATASETS_PATH,'bank_clean.csv'))\n",
    "A_cat_colums, B_cat_colums = split_list_by_rate(category_columns,[rate_A,rate_B])\n",
    "A_num_colums, B_num_colums = split_list_by_rate(numerical_columns,[rate_A,rate_B])\n",
    "A_colums = A_cat_colums + A_num_colums\n",
    "B_colums = B_cat_colums + B_num_colums + [target_variable]\n",
    "df_A = df[A_colums]\n",
    "df_B = df[B_colums]\n",
    "df_A.to_csv(os.path.join(DATASETS_PATH,'bank_clean_A.csv'),index=None)\n",
    "df_B.to_csv(os.path.join(DATASETS_PATH,'bank_clean_B.csv'),index=None)\n",
    "\n",
    "\n",
    "# census\n",
    "category_columns = ['workclass', 'education', 'marital-status', 'occupation', 'relationship', 'race', 'sex',\n",
    "                    'native-country']\n",
    "numerical_columns = ['age', 'fnlwgt', 'education-num', 'capital-gain', 'capital-loss', 'hours-per-week']\n",
    "numerical_columns = 'y'\n",
    "\n",
    "df = pd.read_csv(os.path.join(DATASETS_PATH,'census_clean.csv'))\n",
    "A_cat_colums, B_cat_colums = split_list_by_rate(category_columns,[rate_A,rate_B])\n",
    "A_num_colums, B_num_colums = split_list_by_rate(numerical_columns,[rate_A,rate_B])\n",
    "A_colums = A_cat_colums + A_num_colums\n",
    "B_colums = B_cat_colums + B_num_colums + [target_variable]\n",
    "df_A = df[A_colums]\n",
    "df_B = df[B_colums]\n",
    "df_A.to_csv(os.path.join(DATASETS_PATH,'census_clean_A.csv'),index=None)\n",
    "df_B.to_csv(os.path.join(DATASETS_PATH,'census_clean_B.csv'),index=None)\n",
    "\n",
    "\n",
    "# credit\n",
    "category_columns = ['SEX', 'EDUCATION', 'MARRIAGE', 'PAY_0', 'PAY_2', 'PAY_3', 'PAY_4', 'PAY_5', 'PAY_6']\n",
    "numerical_columns = ['LIMIT_BAL', 'AGE', 'BILL_AMT1', 'BILL_AMT2', 'BILL_AMT3', 'BILL_AMT4', 'BILL_AMT5', 'BILL_AMT6',\n",
    "                     'PAY_AMT1', 'PAY_AMT2', 'PAY_AMT3', 'PAY_AMT4', 'PAY_AMT5', 'PAY_AMT6']\n",
    "target_variable = 'y'\n",
    "\n",
    "df = pd.read_csv(os.path.join(DATASETS_PATH,'credit_clean.csv'))\n",
    "A_cat_colums, B_cat_colums = split_list_by_rate(category_columns,[rate_A,rate_B])\n",
    "A_num_colums, B_num_colums = split_list_by_rate(numerical_columns,[rate_A,rate_B])\n",
    "A_colums = A_cat_colums + A_num_colums\n",
    "B_colums = B_cat_colums + B_num_colums + [target_variable]\n",
    "df_A = df[A_colums]\n",
    "df_B = df[B_colums]\n",
    "df_A.to_csv(os.path.join(DATASETS_PATH,'credit_clean_A.csv'),index=None)\n",
    "df_B.to_csv(os.path.join(DATASETS_PATH,'credit_clean_B.csv'),index=None)"
   ]
  },
  {
   "cell_type": "code",
   "execution_count": 29,
   "id": "09314b53-c3f4-4bfe-bafd-5214ccf2dbca",
   "metadata": {
    "tags": []
   },
   "outputs": [
    {
     "data": {
      "text/plain": [
       "\u001b[0;31mSignature:\u001b[0m \u001b[0mconvert_ipynb_to_py\u001b[0m\u001b[0;34m(\u001b[0m\u001b[0mipynb_file_name\u001b[0m\u001b[0;34m,\u001b[0m \u001b[0mpy_file_name\u001b[0m\u001b[0;34m=\u001b[0m\u001b[0;32mNone\u001b[0m\u001b[0;34m)\u001b[0m\u001b[0;34m\u001b[0m\u001b[0;34m\u001b[0m\u001b[0m\n",
       "\u001b[0;31mDocstring:\u001b[0m\n",
       "将 Jupyter Notebook 文件 (.ipynb) 转换为 Python 脚本 (.py) 文件。\n",
       "\n",
       "参数:\n",
       "    ipynb_file_name (str): 输入的 Jupyter Notebook 文件路径，必须是 .ipynb 文件。\n",
       "    py_file_name (str, 可选): 输出的 Python 脚本文件名。如果未提供该参数，\n",
       "                              则会根据 `ipynb_file_name` 自动生成一个相应的 .py 文件名。\n",
       "\n",
       "返回:\n",
       "    无返回值。此方法会将转换后的 Python 脚本保存在指定的路径中。\n",
       "\n",
       "注意事项:\n",
       "    1. 该方法假定输入的 Jupyter Notebook 文件是有效的 JSON 格式。\n",
       "    2. 输出的 Python 脚本中仅包含代码单元（code cells）的内容，其他单元（如 markdown 单元）将被忽略。\n",
       "    3. 如果未提供 `py_file_name`，生成的 Python 文件名会基于 `ipynb_file_name` 的名称，\n",
       "       并保存在 `SCRIPTS_PATH` 目录中。\n",
       "    4. 需要确保 `SCRIPTS_PATH` 是有效的路径，且程序具有写入权限。\n",
       "\n",
       "示例:\n",
       "    >>> convert_ipynb_to_py(\"example_notebook.ipynb\", \"example_script.py\")\n",
       "    # 将 example_notebook.ipynb 转换为 example_script.py\n",
       "\n",
       "    >>> convert_ipynb_to_py(\"example_notebook.ipynb\")\n",
       "    # 自动生成 example_notebook.py 文件，并保存在 SCRIPTS_PATH 目录下\n",
       "\u001b[0;31mFile:\u001b[0m      ~/VFPUGEN/utils/FateUtils.py\n",
       "\u001b[0;31mType:\u001b[0m      function"
      ]
     },
     "metadata": {},
     "output_type": "display_data"
    }
   ],
   "source": [
    "convert_ipynb_to_py?"
   ]
  },
  {
   "cell_type": "code",
   "execution_count": 31,
   "id": "b54a0ab7-c87d-430d-b40e-b84e00a46e68",
   "metadata": {
    "tags": []
   },
   "outputs": [],
   "source": [
    "convert_ipynb_to_py('切分clean数据再编码.ipynb','split_clean_data_by_rate.py')"
   ]
  },
  {
   "cell_type": "code",
   "execution_count": null,
   "id": "2c82f815-7777-4b12-ac98-67c7ca1fc2ec",
   "metadata": {},
   "outputs": [],
   "source": []
  }
 ],
 "metadata": {
  "kernelspec": {
   "display_name": "fate_env",
   "language": "python",
   "name": "fate_env"
  },
  "language_info": {
   "codemirror_mode": {
    "name": "ipython",
    "version": 3
   },
   "file_extension": ".py",
   "mimetype": "text/x-python",
   "name": "python",
   "nbconvert_exporter": "python",
   "pygments_lexer": "ipython3",
   "version": "3.10.16"
  }
 },
 "nbformat": 4,
 "nbformat_minor": 5
}
