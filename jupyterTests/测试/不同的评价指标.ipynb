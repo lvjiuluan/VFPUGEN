{
 "cells": [
  {
   "cell_type": "markdown",
   "id": "5848fcb8-9d82-4b74-ad0e-287a055d68db",
   "metadata": {
    "pycharm": {
     "name": "#%% md\n"
    }
   },
   "source": [
    "- 全部用rmse公式计算\n",
    "- 分类列和数值列分开rmse计算\n",
    "- 分类列用交叉熵，数值列用rmse\n",
    "- 分类列使用平均F1分数，数值列使用rmse"
   ]
  },
  {
   "cell_type": "code",
   "execution_count": 1,
   "id": "9cf55f9c-c6e4-453c-9e1b-3039c17b4484",
   "metadata": {
    "tags": [],
    "pycharm": {
     "name": "#%%\n"
    }
   },
   "outputs": [],
   "source": [
    "import sys\n",
    "sys.path.append(r'D:\\PyCharmProjects\\VFPUMC02')\n",
    "sys.path.append(r'C:\\Users\\Administrator\\PycharmProjects\\VFPUMC02')\n",
    "sys.path.append(r'/root/VFPUMC02')\n",
    "%load_ext autoreload\n",
    "%autoreload 2\n",
    "\n",
    "%matplotlib inline"
   ]
  },
  {
   "cell_type": "code",
   "execution_count": 50,
   "id": "cc6f666e-6d7d-4e84-a496-4d77e15089bc",
   "metadata": {
    "tags": [],
    "pycharm": {
     "name": "#%%\n"
    }
   },
   "outputs": [],
   "source": [
    "from consts.Constants import DATASETS_PATH\n",
    "import pandas as pd\n",
    "import os\n",
    "from ctgan import CTGAN\n",
    "from utils.DataProcessUtils import get_discrete_columns\n",
    "from utils.DatasetsPrepareUtils import reorder_columns, evaluate_imputed_data_various_metric"
   ]
  },
  {
   "cell_type": "code",
   "execution_count": 43,
   "id": "0ebbbf4b-c816-4b0c-a172-a3067bc28a3e",
   "metadata": {
    "tags": [],
    "pycharm": {
     "name": "#%%\n"
    }
   },
   "outputs": [],
   "source": [
    "df = pd.read_csv(os.path.join(DATASETS_PATH, 'bank.csv'))"
   ]
  },
  {
   "cell_type": "code",
   "execution_count": 44,
   "id": "4fb02195-2de7-42f2-98a8-d81fb077983d",
   "metadata": {
    "tags": [],
    "pycharm": {
     "name": "#%%\n"
    }
   },
   "outputs": [],
   "source": [
    "data, y = df.iloc[:,:-1], df.iloc[:,-1]"
   ]
  },
  {
   "cell_type": "code",
   "execution_count": 49,
   "id": "ad07414a-0f01-4e73-b396-6c8df1cfc5cb",
   "metadata": {
    "tags": [],
    "pycharm": {
     "name": "#%%\n"
    }
   },
   "outputs": [],
   "source": [
    "df_orig = pd.read_csv(os.path.join(DATASETS_PATH, 'bank_orig.csv'))\n",
    "category_columns = ['job', 'marital', 'education', 'default', 'housing', 'loan', 'contact', 'month', 'day_of_week',\n",
    "                    'poutcome']"
   ]
  },
  {
   "cell_type": "code",
   "execution_count": 46,
   "id": "e946d405-4449-4327-af77-b3c9dabccf47",
   "metadata": {
    "tags": [],
    "pycharm": {
     "name": "#%%\n"
    }
   },
   "outputs": [],
   "source": [
    "discrete_columns = get_discrete_columns(data)"
   ]
  },
  {
   "cell_type": "code",
   "execution_count": 47,
   "id": "1f68b539-c67a-424e-9fa8-029707083595",
   "metadata": {
    "tags": [],
    "pycharm": {
     "name": "#%%\n"
    }
   },
   "outputs": [],
   "source": [
    "ctgan = CTGAN(epochs=5)\n",
    "ctgan.fit(data,discrete_columns)"
   ]
  },
  {
   "cell_type": "code",
   "execution_count": 52,
   "id": "7085931f-6791-44af-b409-9901625885a8",
   "metadata": {
    "tags": [],
    "pycharm": {
     "name": "#%%\n"
    }
   },
   "outputs": [],
   "source": [
    "imputed = ctgan.sample(data.shape[0])"
   ]
  },
  {
   "cell_type": "code",
   "execution_count": 41,
   "id": "d92097ab-7cba-4bfb-9a69-9a7f624cccf1",
   "metadata": {
    "tags": [],
    "pycharm": {
     "name": "#%%\n"
    }
   },
   "outputs": [],
   "source": [
    "df = reorder_columns(df, new_columns)"
   ]
  },
  {
   "cell_type": "code",
   "execution_count": 42,
   "id": "c7b59472-ccd8-4524-9ae3-53682d5609af",
   "metadata": {
    "tags": [],
    "pycharm": {
     "name": "#%%\n"
    }
   },
   "outputs": [],
   "source": [
    "df.to_csv(os.path.join(DATASETS_PATH, 'bank.csv'),index=None)"
   ]
  },
  {
   "cell_type": "code",
   "execution_count": 55,
   "id": "354c3b6a-51a3-4459-8d90-5c9b2542ad19",
   "metadata": {
    "tags": [],
    "pycharm": {
     "name": "#%%\n"
    }
   },
   "outputs": [
    {
     "name": "stdout",
     "output_type": "stream",
     "text": [
      "评估指标:\n",
      "1. 全部列的 RMSE: 0.725394\n",
      "2a. 分类列的 RMSE: 0.457192\n",
      "2b. 数值列的 RMSE: 1.485669\n",
      "2. 分类列和数值列分别计算 RMSE 后相加: 1.942861\n",
      "3a. 分类列的交叉熵: 24.174232\n",
      "3b. 数值列的 RMSE (用于交叉熵方法): 1.485669\n",
      "4a. 分类列的平均 F1 分数: 0.021588\n",
      "4b. 数值列的 RMSE (用于 F1 方法): 1.485669\n"
     ]
    },
    {
     "data": {
      "text/plain": [
       "{'rmse_all': 0.7253944033030305,\n",
       " 'rmse_categorical': 0.4571919935396884,\n",
       " 'rmse_numerical': 1.4856686722456507,\n",
       " 'rmse_sum': 1.9428606657853391,\n",
       " 'cross_entropy_categorical': 24.174231817749025,\n",
       " 'rmse_numerical_for_cross_entropy': 1.4856686722456507,\n",
       " 'f1_categorical': 0.02158804881873764,\n",
       " 'rmse_numerical_for_f1': 1.4856686722456507}"
      ]
     },
     "execution_count": 55,
     "metadata": {},
     "output_type": "execute_result"
    }
   ],
   "source": [
    "evaluate_imputed_data_various_metric(data,imputed,discrete_columns)"
   ]
  }
 ],
 "metadata": {
  "kernelspec": {
   "display_name": "fate_env",
   "language": "python",
   "name": "fate_env"
  },
  "language_info": {
   "codemirror_mode": {
    "name": "ipython",
    "version": 3
   },
   "file_extension": ".py",
   "mimetype": "text/x-python",
   "name": "python",
   "nbconvert_exporter": "python",
   "pygments_lexer": "ipython3",
   "version": "3.10.16"
  }
 },
 "nbformat": 4,
 "nbformat_minor": 5
}