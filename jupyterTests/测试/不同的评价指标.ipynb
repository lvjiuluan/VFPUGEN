{
 "cells": [
  {
   "cell_type": "markdown",
   "id": "5848fcb8-9d82-4b74-ad0e-287a055d68db",
   "metadata": {
    "pycharm": {
     "name": "#%% md\n"
    }
   },
   "source": [
    "- 全部用rmse公式计算\n",
    "- 分类列和数值列分开rmse计算\n",
    "- 分类列用交叉熵，数值列用rmse\n",
    "- 分类列使用平均F1分数，数值列使用rmse"
   ]
  },
  {
   "cell_type": "code",
   "execution_count": null,
   "outputs": [],
   "source": [
    "import sys\n",
    "sys.path.append(r'D:\\PyCharmProjects\\VFPUGEN')\n",
    "sys.path.append(r'C:\\Users\\Administrator\\PycharmProjects\\VFPUGEN')\n",
    "sys.path.append(r'/root/VFPUGEN')\n",
    "sys.path.append(r'D:\\PycharmProjects\\VFPUGEN')\n",
    "%load_ext autoreload\n",
    "%autoreload 2\n",
    "\n",
    "%matplotlib inline"
   ],
   "metadata": {
    "collapsed": false,
    "pycharm": {
     "name": "#%%\n"
    }
   }
  },
  {
   "cell_type": "code",
   "execution_count": null,
   "outputs": [],
   "source": [
    "from consts.Constants import DATASETS_PATH\n",
    "import pandas as pd\n",
    "import os\n",
    "from ctgan import CTGAN\n",
    "from utils.DataProcessUtils import get_discrete_columns\n",
    "from utils.DatasetsPrepareUtils import reorder_columns, evaluate_imputed_data_various_metric"
   ],
   "metadata": {
    "collapsed": false,
    "pycharm": {
     "name": "#%%\n"
    }
   }
  },
  {
   "cell_type": "code",
   "execution_count": null,
   "outputs": [],
   "source": [
    "df = pd.read_csv(os.path.join(DATASETS_PATH, 'bank_coded_one.csv'))"
   ],
   "metadata": {
    "collapsed": false,
    "pycharm": {
     "name": "#%%\n"
    }
   }
  },
  {
   "cell_type": "code",
   "execution_count": null,
   "outputs": [],
   "source": [
    "data, y = df.iloc[:,:-1], df.iloc[:,-1]"
   ],
   "metadata": {
    "collapsed": false,
    "pycharm": {
     "name": "#%%\n"
    }
   }
  },
  {
   "cell_type": "code",
   "execution_count": null,
   "outputs": [],
   "source": [
    "# df_orig = pd.read_csv(os.path.join(DATASETS_PATH, 'bank_orig.csv'))\n",
    "# category_columns = ['job', 'marital', 'education', 'default', 'housing', 'loan', 'contact', 'month', 'day_of_week',\n",
    "#                     'poutcome']"
   ],
   "metadata": {
    "collapsed": false,
    "pycharm": {
     "name": "#%%\n"
    }
   }
  },
  {
   "cell_type": "code",
   "execution_count": 5,
   "id": "e946d405-4449-4327-af77-b3c9dabccf47",
   "metadata": {
    "pycharm": {
     "name": "#%%\n"
    },
    "tags": []
   },
   "outputs": [],
   "source": [
    "discrete_columns = get_discrete_columns(data)"
   ]
  },
  {
   "cell_type": "code",
   "execution_count": 6,
   "id": "1f68b539-c67a-424e-9fa8-029707083595",
   "metadata": {
    "pycharm": {
     "name": "#%%\n"
    },
    "tags": []
   },
   "outputs": [],
   "source": [
    "ctgan = CTGAN(epochs=5)\n",
    "ctgan.fit(data,discrete_columns)"
   ]
  },
  {
   "cell_type": "code",
   "execution_count": 7,
   "id": "7085931f-6791-44af-b409-9901625885a8",
   "metadata": {
    "pycharm": {
     "name": "#%%\n"
    },
    "tags": []
   },
   "outputs": [],
   "source": [
    "imputed = ctgan.sample(data.shape[0])"
   ]
  },
  {
   "cell_type": "code",
   "execution_count": 41,
   "id": "d92097ab-7cba-4bfb-9a69-9a7f624cccf1",
   "metadata": {
    "pycharm": {
     "name": "#%%\n"
    },
    "tags": []
   },
   "outputs": [],
   "source": [
    "df = reorder_columns(df, new_columns)"
   ]
  },
  {
   "cell_type": "code",
   "execution_count": 42,
   "id": "c7b59472-ccd8-4524-9ae3-53682d5609af",
   "metadata": {
    "pycharm": {
     "name": "#%%\n"
    },
    "tags": []
   },
   "outputs": [],
   "source": [
    "df.to_csv(os.path.join(DATASETS_PATH, 'bank.csv'),index=None)"
   ]
  },
  {
   "cell_type": "code",
   "execution_count": 8,
   "id": "354c3b6a-51a3-4459-8d90-5c9b2542ad19",
   "metadata": {
    "pycharm": {
     "name": "#%%\n"
    },
    "tags": []
   },
   "outputs": [
    {
     "name": "stdout",
     "output_type": "stream",
     "text": [
      "评估指标:\n",
      "1. 全部列的 RMSE: 0.695209\n",
      "2a. 分类列的 RMSE: 0.458162\n",
      "2b. 数值列的 RMSE: 1.390090\n",
      "2. 分类列和数值列分别计算 RMSE 后相加: 1.848253\n",
      "3a. 分类列的交叉熵: 24.053447\n",
      "3b. 数值列的 RMSE (用于交叉熵方法): 1.390090\n",
      "4a. 分类列的平均 F1 分数: 0.020425\n",
      "4b. 数值列的 RMSE (用于 F1 方法): 1.390090\n"
     ]
    },
    {
     "data": {
      "text/plain": [
       "{'rmse_all': 0.6952090759545142,\n",
       " 'rmse_categorical': 0.4581623738535411,\n",
       " 'rmse_numerical': 1.3900902924644651,\n",
       " 'rmse_sum': 1.848252666318006,\n",
       " 'cross_entropy_categorical': 24.053447088854924,\n",
       " 'rmse_numerical_for_cross_entropy': 1.3900902924644651,\n",
       " 'f1_categorical': 0.020424637005411462,\n",
       " 'rmse_numerical_for_f1': 1.3900902924644651}"
      ]
     },
     "execution_count": 8,
     "metadata": {},
     "output_type": "execute_result"
    }
   ],
   "source": [
    "evaluate_imputed_data_various_metric(data,imputed,discrete_columns)"
   ]
  }
 ],
 "metadata": {
  "kernelspec": {
   "display_name": "fate_env",
   "language": "python",
   "name": "fate_env"
  },
  "language_info": {
   "codemirror_mode": {
    "name": "ipython",
    "version": 3
   },
   "file_extension": ".py",
   "mimetype": "text/x-python",
   "name": "python",
   "nbconvert_exporter": "python",
   "pygments_lexer": "ipython3",
   "version": "3.10.16"
  }
 },
 "nbformat": 4,
 "nbformat_minor": 5
}